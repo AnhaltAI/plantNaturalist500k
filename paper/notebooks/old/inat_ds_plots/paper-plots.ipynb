{
 "cells": [
  {
   "cell_type": "code",
   "execution_count": 3,
   "id": "e28044e7-4a8e-4c02-9b3b-cb211a647c80",
   "metadata": {
    "tags": []
   },
   "outputs": [],
   "source": [
    "from pathlib import Path\n",
    "import pandas as pd\n",
    "import seaborn as sns\n",
    "#import vaex as vx\n",
    "from pyarrow import csv\n",
    "from datasets import load_dataset\n",
    "\n",
    "import numpy as np\n",
    "\n",
    "import matplotlib.pyplot as plt"
   ]
  },
  {
   "cell_type": "code",
   "execution_count": 6,
   "id": "e4f605a8-4820-4bee-9cf2-dd9922f5e4ac",
   "metadata": {
    "tags": []
   },
   "outputs": [],
   "source": [
    "pd.set_option(\"display.max_columns\", None)\n",
    "pd.set_option(\"display.max_rows\", 100)\n",
    "#%load_ext jupyter_black"
   ]
  },
  {
   "cell_type": "code",
   "execution_count": 7,
   "id": "8a73bfbc-189b-4056-80e0-7406685e0b25",
   "metadata": {
    "tags": []
   },
   "outputs": [
    {
     "data": {
      "text/plain": [
       "[PosixPath('/home/sh/w/cursed_paper/plant-image-classification/paper/notebooks/inat_ds_plots/.ipynb_checkpoints'),\n",
       " PosixPath('/home/sh/w/cursed_paper/plant-image-classification/paper/notebooks/inat_ds_plots/Untitled.ipynb'),\n",
       " PosixPath('/home/sh/w/cursed_paper/plant-image-classification/paper/notebooks/inat_ds_plots/inat_pnet_lorenz.png'),\n",
       " PosixPath('/home/sh/w/cursed_paper/plant-image-classification/paper/notebooks/inat_ds_plots/inaturalist-300k.test.csv'),\n",
       " PosixPath('/home/sh/w/cursed_paper/plant-image-classification/paper/notebooks/inat_ds_plots/inaturalist-300k.train.csv'),\n",
       " PosixPath('/home/sh/w/cursed_paper/plant-image-classification/paper/notebooks/inat_ds_plots/inaturalist-300k.validation.csv'),\n",
       " PosixPath('/home/sh/w/cursed_paper/plant-image-classification/paper/notebooks/inat_ds_plots/paper-plots.ipynb'),\n",
       " PosixPath('/home/sh/w/cursed_paper/plant-image-classification/paper/notebooks/inat_ds_plots/plantnet-300k.test.csv'),\n",
       " PosixPath('/home/sh/w/cursed_paper/plant-image-classification/paper/notebooks/inat_ds_plots/plantnet-300k.train.csv'),\n",
       " PosixPath('/home/sh/w/cursed_paper/plant-image-classification/paper/notebooks/inat_ds_plots/plantnet-300k.validation.csv')]"
      ]
     },
     "execution_count": 7,
     "metadata": {},
     "output_type": "execute_result"
    }
   ],
   "source": [
    "list(Path(\".\").resolve().iterdir())"
   ]
  },
  {
   "cell_type": "code",
   "execution_count": 8,
   "id": "59806d29-0897-4a9f-999e-4882bf4b73ce",
   "metadata": {
    "tags": []
   },
   "outputs": [
    {
     "data": {
      "text/plain": [
       "([PosixPath('/home/sh/w/cursed_paper/plant-image-classification/paper/notebooks/inat_ds_plots/inaturalist-300k.test.csv'),\n",
       "  PosixPath('/home/sh/w/cursed_paper/plant-image-classification/paper/notebooks/inat_ds_plots/inaturalist-300k.train.csv'),\n",
       "  PosixPath('/home/sh/w/cursed_paper/plant-image-classification/paper/notebooks/inat_ds_plots/inaturalist-300k.validation.csv')],\n",
       " [PosixPath('/home/sh/w/cursed_paper/plant-image-classification/paper/notebooks/inat_ds_plots/plantnet-300k.test.csv'),\n",
       "  PosixPath('/home/sh/w/cursed_paper/plant-image-classification/paper/notebooks/inat_ds_plots/plantnet-300k.train.csv'),\n",
       "  PosixPath('/home/sh/w/cursed_paper/plant-image-classification/paper/notebooks/inat_ds_plots/plantnet-300k.validation.csv')])"
      ]
     },
     "execution_count": 8,
     "metadata": {},
     "output_type": "execute_result"
    }
   ],
   "source": [
    "inat_files = [\n",
    "    x for x in list(Path(\".\").resolve().iterdir()) if \"inaturalist-\" in str(x)\n",
    "]\n",
    "pnet_files = [x for x in list(Path(\".\").resolve().iterdir()) if \"plantnet-\" in str(x)]\n",
    "\n",
    "inat_files, pnet_files"
   ]
  },
  {
   "cell_type": "code",
   "execution_count": 9,
   "id": "dc13b5e5-a186-4dde-af68-3f625649fcfc",
   "metadata": {
    "tags": []
   },
   "outputs": [
    {
     "data": {
      "text/html": [
       "<div>\n",
       "<style scoped>\n",
       "    .dataframe tbody tr th:only-of-type {\n",
       "        vertical-align: middle;\n",
       "    }\n",
       "\n",
       "    .dataframe tbody tr th {\n",
       "        vertical-align: top;\n",
       "    }\n",
       "\n",
       "    .dataframe thead th {\n",
       "        text-align: right;\n",
       "    }\n",
       "</style>\n",
       "<table border=\"1\" class=\"dataframe\">\n",
       "  <thead>\n",
       "    <tr style=\"text-align: right;\">\n",
       "      <th></th>\n",
       "      <th>kingdom</th>\n",
       "      <th>phylum</th>\n",
       "      <th>class</th>\n",
       "      <th>order</th>\n",
       "      <th>family</th>\n",
       "      <th>genus</th>\n",
       "      <th>species</th>\n",
       "      <th>0</th>\n",
       "    </tr>\n",
       "  </thead>\n",
       "  <tbody>\n",
       "    <tr>\n",
       "      <th>0</th>\n",
       "      <td>Plantae</td>\n",
       "      <td>Tracheophyta</td>\n",
       "      <td>Cycadopsida</td>\n",
       "      <td>Cycadales</td>\n",
       "      <td>Zamiaceae</td>\n",
       "      <td>Macrozamia</td>\n",
       "      <td>Macrozamia moorei</td>\n",
       "      <td>6</td>\n",
       "    </tr>\n",
       "    <tr>\n",
       "      <th>1</th>\n",
       "      <td>Plantae</td>\n",
       "      <td>Tracheophyta</td>\n",
       "      <td>Liliopsida</td>\n",
       "      <td>Alismatales</td>\n",
       "      <td>Aponogetonaceae</td>\n",
       "      <td>Aponogeton</td>\n",
       "      <td>Aponogeton junceus</td>\n",
       "      <td>2</td>\n",
       "    </tr>\n",
       "    <tr>\n",
       "      <th>2</th>\n",
       "      <td>Plantae</td>\n",
       "      <td>Tracheophyta</td>\n",
       "      <td>Liliopsida</td>\n",
       "      <td>Alismatales</td>\n",
       "      <td>Araceae</td>\n",
       "      <td>Anthurium</td>\n",
       "      <td>Anthurium cordatum</td>\n",
       "      <td>1</td>\n",
       "    </tr>\n",
       "    <tr>\n",
       "      <th>3</th>\n",
       "      <td>Plantae</td>\n",
       "      <td>Tracheophyta</td>\n",
       "      <td>Liliopsida</td>\n",
       "      <td>Alismatales</td>\n",
       "      <td>Araceae</td>\n",
       "      <td>Anthurium</td>\n",
       "      <td>Anthurium oxybelium</td>\n",
       "      <td>2</td>\n",
       "    </tr>\n",
       "    <tr>\n",
       "      <th>4</th>\n",
       "      <td>Plantae</td>\n",
       "      <td>Tracheophyta</td>\n",
       "      <td>Liliopsida</td>\n",
       "      <td>Alismatales</td>\n",
       "      <td>Araceae</td>\n",
       "      <td>Arum</td>\n",
       "      <td>Arum orientale</td>\n",
       "      <td>45</td>\n",
       "    </tr>\n",
       "    <tr>\n",
       "      <th>...</th>\n",
       "      <td>...</td>\n",
       "      <td>...</td>\n",
       "      <td>...</td>\n",
       "      <td>...</td>\n",
       "      <td>...</td>\n",
       "      <td>...</td>\n",
       "      <td>...</td>\n",
       "      <td>...</td>\n",
       "    </tr>\n",
       "    <tr>\n",
       "      <th>986</th>\n",
       "      <td>Plantae</td>\n",
       "      <td>Tracheophyta</td>\n",
       "      <td>Polypodiopsida</td>\n",
       "      <td>Polypodiales</td>\n",
       "      <td>Pteridaceae</td>\n",
       "      <td>Pityrogramma</td>\n",
       "      <td>Pityrogramma calomelanos</td>\n",
       "      <td>108</td>\n",
       "    </tr>\n",
       "    <tr>\n",
       "      <th>987</th>\n",
       "      <td>Plantae</td>\n",
       "      <td>Tracheophyta</td>\n",
       "      <td>Polypodiopsida</td>\n",
       "      <td>Polypodiales</td>\n",
       "      <td>Thelypteridaceae</td>\n",
       "      <td>Amauropelta</td>\n",
       "      <td>Amauropelta knysnaensis</td>\n",
       "      <td>4</td>\n",
       "    </tr>\n",
       "    <tr>\n",
       "      <th>988</th>\n",
       "      <td>Plantae</td>\n",
       "      <td>Tracheophyta</td>\n",
       "      <td>Polypodiopsida</td>\n",
       "      <td>Polypodiales</td>\n",
       "      <td>Thelypteridaceae</td>\n",
       "      <td>Amauropelta</td>\n",
       "      <td>Amauropelta sancta</td>\n",
       "      <td>1</td>\n",
       "    </tr>\n",
       "    <tr>\n",
       "      <th>989</th>\n",
       "      <td>Plantae</td>\n",
       "      <td>Tracheophyta</td>\n",
       "      <td>Polypodiopsida</td>\n",
       "      <td>Salviniales</td>\n",
       "      <td>Salviniaceae</td>\n",
       "      <td>Azolla</td>\n",
       "      <td>Azolla filiculoides</td>\n",
       "      <td>185</td>\n",
       "    </tr>\n",
       "    <tr>\n",
       "      <th>990</th>\n",
       "      <td>Plantae</td>\n",
       "      <td>Tracheophyta</td>\n",
       "      <td>Polypodiopsida</td>\n",
       "      <td>Schizaeales</td>\n",
       "      <td>Anemiaceae</td>\n",
       "      <td>Anemia</td>\n",
       "      <td>Anemia caffrorum</td>\n",
       "      <td>93</td>\n",
       "    </tr>\n",
       "  </tbody>\n",
       "</table>\n",
       "<p>991 rows × 8 columns</p>\n",
       "</div>"
      ],
      "text/plain": [
       "     kingdom        phylum           class         order            family  \\\n",
       "0    Plantae  Tracheophyta     Cycadopsida     Cycadales         Zamiaceae   \n",
       "1    Plantae  Tracheophyta      Liliopsida   Alismatales   Aponogetonaceae   \n",
       "2    Plantae  Tracheophyta      Liliopsida   Alismatales           Araceae   \n",
       "3    Plantae  Tracheophyta      Liliopsida   Alismatales           Araceae   \n",
       "4    Plantae  Tracheophyta      Liliopsida   Alismatales           Araceae   \n",
       "..       ...           ...             ...           ...               ...   \n",
       "986  Plantae  Tracheophyta  Polypodiopsida  Polypodiales       Pteridaceae   \n",
       "987  Plantae  Tracheophyta  Polypodiopsida  Polypodiales  Thelypteridaceae   \n",
       "988  Plantae  Tracheophyta  Polypodiopsida  Polypodiales  Thelypteridaceae   \n",
       "989  Plantae  Tracheophyta  Polypodiopsida   Salviniales      Salviniaceae   \n",
       "990  Plantae  Tracheophyta  Polypodiopsida   Schizaeales        Anemiaceae   \n",
       "\n",
       "            genus                   species    0  \n",
       "0      Macrozamia         Macrozamia moorei    6  \n",
       "1      Aponogeton        Aponogeton junceus    2  \n",
       "2       Anthurium        Anthurium cordatum    1  \n",
       "3       Anthurium       Anthurium oxybelium    2  \n",
       "4            Arum            Arum orientale   45  \n",
       "..            ...                       ...  ...  \n",
       "986  Pityrogramma  Pityrogramma calomelanos  108  \n",
       "987   Amauropelta   Amauropelta knysnaensis    4  \n",
       "988   Amauropelta        Amauropelta sancta    1  \n",
       "989        Azolla       Azolla filiculoides  185  \n",
       "990        Anemia          Anemia caffrorum   93  \n",
       "\n",
       "[991 rows x 8 columns]"
      ]
     },
     "execution_count": 9,
     "metadata": {},
     "output_type": "execute_result"
    }
   ],
   "source": [
    "# train, validation, test\n",
    "ditr = pd.read_csv(inat_files[2])\n",
    "diva = pd.read_csv(inat_files[1])\n",
    "dite = pd.read_csv(inat_files[0])\n",
    "d_inat = pd.concat([ditr, diva, dite], ignore_index=True)\n",
    "\n",
    "dptr = pd.read_csv(pnet_files[2])\n",
    "dpva = pd.read_csv(pnet_files[1])\n",
    "dpte = pd.read_csv(pnet_files[0])\n",
    "d_pnet = pd.concat([dptr, dpva, dpte], ignore_index=True)\n",
    "\n",
    "# d_inat.head()\n",
    "ditr"
   ]
  },
  {
   "cell_type": "code",
   "execution_count": 10,
   "id": "113cc077-efe9-40fa-994c-2f19d0acd880",
   "metadata": {
    "tags": []
   },
   "outputs": [],
   "source": [
    "# https://zhiyzuo.github.io/Plot-Lorenz/\n",
    "\n",
    "# inat - full\n",
    "# X = ditr[\"0\"]\n",
    "X = d_inat.groupby(\"species\").sum()[\"0\"]\n",
    "X = X.sort_values().values\n",
    "\n",
    "\n",
    "X_lorenz = X.cumsum() / X.sum()\n",
    "X_lorenz = np.insert(X_lorenz, 0, 0)\n",
    "X_lorenz[0], X_lorenz[-1]\n",
    "\n",
    "\n",
    "# plantnet - entire dataset\n",
    "# Y = dptr[\"0\"]\n",
    "Y = d_pnet.groupby(\"label\").sum()[\"0\"]\n",
    "Y = Y.sort_values().values\n",
    "\n",
    "Y_lorenz = Y.cumsum() / Y.sum()\n",
    "Y_lorenz = np.insert(Y_lorenz, 0, 0)\n",
    "Y_lorenz[0], Y_lorenz[-1]\n",
    "\n",
    "X_x = np.arange(X_lorenz.size) / (X_lorenz.size - 1)\n",
    "Y_x = np.arange(Y_lorenz.size) / (Y_lorenz.size - 1)\n",
    "\n",
    "X_lorenz *= 100\n",
    "Y_lorenz *= 100\n",
    "X_x *= 100\n",
    "Y_x *= 100"
   ]
  },
  {
   "cell_type": "raw",
   "id": "287377bd-ed05-40d7-bcb2-a8ab5ffd1b63",
   "metadata": {
    "tags": []
   },
   "source": [
    "fig, ax = plt.subplots(figsize=[6, 6])\n",
    "## scatter plot of Lorenz curve\n",
    "ax.scatter(\n",
    "    X_x,\n",
    "    # np.arange(X_lorenz.size) / (X_lorenz.size - 1),\n",
    "    X_lorenz,\n",
    "    marker=\"x\",\n",
    "    color=\"darkgreen\",\n",
    "    s=100,\n",
    ")\n",
    "ax.scatter(\n",
    "    Y_x,\n",
    "    # np.arange(Y_lorenz.size) / (Y_lorenz.size - 1),\n",
    "    Y_lorenz,\n",
    "    marker=\"x\",\n",
    "    color=\"red\",\n",
    "    s=100,\n",
    ")\n",
    "## line plot of equality\n",
    "ax.plot([0, 1], [0, 1], color=\"k\")"
   ]
  },
  {
   "cell_type": "code",
   "execution_count": 13,
   "id": "e7ec04d4-df0c-4a06-898a-1bf4bdce9628",
   "metadata": {
    "tags": []
   },
   "outputs": [
    {
     "name": "stderr",
     "output_type": "stream",
     "text": [
      "/tmp/ipykernel_984507/1724429039.py:39: UserWarning: set_ticklabels() should only be used with a fixed number of ticks, i.e. after set_ticks() or using a FixedLocator.\n",
      "  ax.set_xticklabels(x_labels)\n",
      "/tmp/ipykernel_984507/1724429039.py:41: UserWarning: set_ticklabels() should only be used with a fixed number of ticks, i.e. after set_ticks() or using a FixedLocator.\n",
      "  ax.set_yticklabels(y_labels)\n"
     ]
    },
    {
     "data": {
      "image/png": "[encoded data removed]",
      "text/plain": [
       "<Figure size 500x500 with 1 Axes>"
      ]
     },
     "metadata": {},
     "output_type": "display_data"
    }
   ],
   "source": [
    "sns.set_context(\"notebook\")\n",
    "\n",
    "# with sns.axes_style(\"whitegrid\"):\n",
    "with sns.axes_style(\"white\"):\n",
    "    # inat\n",
    "    ax = sns.lineplot(x=X_x, y=X_lorenz, c=\"red\", label=\"plantNaturalist-500k\")\n",
    "    # plantent\n",
    "    sns.lineplot(\n",
    "        x=Y_x, y=Y_lorenz, ax=ax, c=\"blue\", linestyle=\"--\", label=\"Pl@ntNet-300k\"\n",
    "    )\n",
    "\n",
    "    ax.figure.set_size_inches(5, 5)\n",
    "    ax.set_xlabel(\"Cumulative share of species, from the smallest to the largest\")\n",
    "    ax.set_ylabel(\"Cumulative share of images\")\n",
    "\n",
    "    # https://stackoverflow.com/questions/65622776/how-to-find-x-value-on-a-intersection-point-of-axhline-on-seaborn-ecdf-plot\n",
    "\n",
    "    x_special = 80\n",
    "    for line in ax.get_lines():\n",
    "        x, y = line.get_data()\n",
    "        ind = np.argwhere(x >= x_special)[\n",
    "            0, 0\n",
    "        ]  # first index where y is larger than y_special\n",
    "        # x[ind] is the desired x-value\n",
    "        color = line.get_color()\n",
    "        ax.text(\n",
    "            x_special,\n",
    "            y[ind],\n",
    "            f\" {y[ind]:.0f}%\",\n",
    "            ha=\"left\" if color == \"red\" else \"right\",\n",
    "            va=\"top\" if color == \"red\" else \"bottom\",\n",
    "            color=color,\n",
    "            fontsize=\"medium\",\n",
    "        )  # maybe color=line.get_color()\n",
    "        ax.axvline(x_special, linestyle=\"--\", color=\"#cfcfcf\", lw=1, alpha=0.75)\n",
    "        ax.axhline(y[ind], linestyle=\"--\", color=\"#cfcfcf\", lw=1, alpha=0.75)\n",
    "\n",
    "    x_labels = [f\"{item:.0f}%\" for item in ax.get_xticks().tolist()]\n",
    "    ax.set_xticklabels(x_labels)\n",
    "    y_labels = [f\"{item:.0f}%\" for item in ax.get_yticks().tolist()]\n",
    "    ax.set_yticklabels(y_labels)\n",
    "\n",
    "ax.figure.savefig(\"pnat_pnet_lorenz.png\", bbox_inches=\"tight\")"
   ]
  },
  {
   "cell_type": "code",
   "execution_count": 8,
   "id": "13c09b4d-3829-4c4b-90af-fb0274c9cdc9",
   "metadata": {
    "tags": []
   },
   "outputs": [
    {
     "name": "stdout",
     "output_type": "stream",
     "text": [
      "991\n",
      "0    526584\n",
      "dtype: int64\n"
     ]
    }
   ],
   "source": [
    "# Num species and pics in inat_300k\n",
    "print(len(d_inat.groupby(\"species\").sum()))\n",
    "print(d_inat.groupby(\"species\").sum().sum())"
   ]
  },
  {
   "cell_type": "code",
   "execution_count": 53,
   "id": "1da30289-a9a7-4fb9-a6f2-fbfaf1bb58d4",
   "metadata": {
    "tags": []
   },
   "outputs": [
    {
     "data": {
      "text/plain": [
       "(0    421294\n",
       " dtype: int64,\n",
       " 0    52726\n",
       " dtype: int64,\n",
       " 0    52564\n",
       " dtype: int64)"
      ]
     },
     "execution_count": 53,
     "metadata": {},
     "output_type": "execute_result"
    }
   ],
   "source": [
    "# Train, valid, test of our inat dataset\n",
    "ditr.groupby(\"species\").sum().sum(), diva.groupby(\"species\").sum().sum(), dite.groupby(\n",
    "    \"species\"\n",
    ").sum().sum(),"
   ]
  },
  {
   "cell_type": "code",
   "execution_count": null,
   "id": "e1981c6a-bc1c-490d-93bb-17e26f298dcd",
   "metadata": {},
   "outputs": [],
   "source": []
  },
  {
   "cell_type": "code",
   "execution_count": null,
   "id": "a1a98951-282b-4f90-a181-d9aa0cd3e510",
   "metadata": {},
   "outputs": [],
   "source": []
  },
  {
   "cell_type": "code",
   "execution_count": 11,
   "id": "6beea4fa-12ce-40f9-aecc-01bb00515b60",
   "metadata": {
    "tags": []
   },
   "outputs": [
    {
     "data": {
      "text/html": [
       "<div>\n",
       "<style scoped>\n",
       "    .dataframe tbody tr th:only-of-type {\n",
       "        vertical-align: middle;\n",
       "    }\n",
       "\n",
       "    .dataframe tbody tr th {\n",
       "        vertical-align: top;\n",
       "    }\n",
       "\n",
       "    .dataframe thead th {\n",
       "        text-align: right;\n",
       "    }\n",
       "</style>\n",
       "<table border=\"1\" class=\"dataframe\">\n",
       "  <thead>\n",
       "    <tr style=\"text-align: right;\">\n",
       "      <th></th>\n",
       "      <th>kingdom</th>\n",
       "      <th>phylum</th>\n",
       "      <th>class</th>\n",
       "      <th>order</th>\n",
       "      <th>family</th>\n",
       "      <th>genus</th>\n",
       "      <th>species</th>\n",
       "      <th>0</th>\n",
       "    </tr>\n",
       "  </thead>\n",
       "  <tbody>\n",
       "    <tr>\n",
       "      <th>0</th>\n",
       "      <td>Plantae</td>\n",
       "      <td>Tracheophyta</td>\n",
       "      <td>Cycadopsida</td>\n",
       "      <td>Cycadales</td>\n",
       "      <td>Zamiaceae</td>\n",
       "      <td>Macrozamia</td>\n",
       "      <td>Macrozamia moorei</td>\n",
       "      <td>60</td>\n",
       "    </tr>\n",
       "    <tr>\n",
       "      <th>1</th>\n",
       "      <td>Plantae</td>\n",
       "      <td>Tracheophyta</td>\n",
       "      <td>Liliopsida</td>\n",
       "      <td>Alismatales</td>\n",
       "      <td>Aponogetonaceae</td>\n",
       "      <td>Aponogeton</td>\n",
       "      <td>Aponogeton junceus</td>\n",
       "      <td>48</td>\n",
       "    </tr>\n",
       "    <tr>\n",
       "      <th>2</th>\n",
       "      <td>Plantae</td>\n",
       "      <td>Tracheophyta</td>\n",
       "      <td>Liliopsida</td>\n",
       "      <td>Alismatales</td>\n",
       "      <td>Araceae</td>\n",
       "      <td>Anthurium</td>\n",
       "      <td>Anthurium cordatum</td>\n",
       "      <td>1</td>\n",
       "    </tr>\n",
       "    <tr>\n",
       "      <th>3</th>\n",
       "      <td>Plantae</td>\n",
       "      <td>Tracheophyta</td>\n",
       "      <td>Liliopsida</td>\n",
       "      <td>Alismatales</td>\n",
       "      <td>Araceae</td>\n",
       "      <td>Anthurium</td>\n",
       "      <td>Anthurium oxybelium</td>\n",
       "      <td>7</td>\n",
       "    </tr>\n",
       "    <tr>\n",
       "      <th>4</th>\n",
       "      <td>Plantae</td>\n",
       "      <td>Tracheophyta</td>\n",
       "      <td>Liliopsida</td>\n",
       "      <td>Alismatales</td>\n",
       "      <td>Araceae</td>\n",
       "      <td>Arum</td>\n",
       "      <td>Arum orientale</td>\n",
       "      <td>386</td>\n",
       "    </tr>\n",
       "    <tr>\n",
       "      <th>...</th>\n",
       "      <td>...</td>\n",
       "      <td>...</td>\n",
       "      <td>...</td>\n",
       "      <td>...</td>\n",
       "      <td>...</td>\n",
       "      <td>...</td>\n",
       "      <td>...</td>\n",
       "      <td>...</td>\n",
       "    </tr>\n",
       "    <tr>\n",
       "      <th>2968</th>\n",
       "      <td>Plantae</td>\n",
       "      <td>Tracheophyta</td>\n",
       "      <td>Polypodiopsida</td>\n",
       "      <td>Polypodiales</td>\n",
       "      <td>Pteridaceae</td>\n",
       "      <td>Pityrogramma</td>\n",
       "      <td>Pityrogramma calomelanos</td>\n",
       "      <td>81</td>\n",
       "    </tr>\n",
       "    <tr>\n",
       "      <th>2969</th>\n",
       "      <td>Plantae</td>\n",
       "      <td>Tracheophyta</td>\n",
       "      <td>Polypodiopsida</td>\n",
       "      <td>Polypodiales</td>\n",
       "      <td>Thelypteridaceae</td>\n",
       "      <td>Amauropelta</td>\n",
       "      <td>Amauropelta knysnaensis</td>\n",
       "      <td>5</td>\n",
       "    </tr>\n",
       "    <tr>\n",
       "      <th>2970</th>\n",
       "      <td>Plantae</td>\n",
       "      <td>Tracheophyta</td>\n",
       "      <td>Polypodiopsida</td>\n",
       "      <td>Polypodiales</td>\n",
       "      <td>Thelypteridaceae</td>\n",
       "      <td>Amauropelta</td>\n",
       "      <td>Amauropelta sancta</td>\n",
       "      <td>2</td>\n",
       "    </tr>\n",
       "    <tr>\n",
       "      <th>2971</th>\n",
       "      <td>Plantae</td>\n",
       "      <td>Tracheophyta</td>\n",
       "      <td>Polypodiopsida</td>\n",
       "      <td>Salviniales</td>\n",
       "      <td>Salviniaceae</td>\n",
       "      <td>Azolla</td>\n",
       "      <td>Azolla filiculoides</td>\n",
       "      <td>172</td>\n",
       "    </tr>\n",
       "    <tr>\n",
       "      <th>2972</th>\n",
       "      <td>Plantae</td>\n",
       "      <td>Tracheophyta</td>\n",
       "      <td>Polypodiopsida</td>\n",
       "      <td>Schizaeales</td>\n",
       "      <td>Anemiaceae</td>\n",
       "      <td>Anemia</td>\n",
       "      <td>Anemia caffrorum</td>\n",
       "      <td>84</td>\n",
       "    </tr>\n",
       "  </tbody>\n",
       "</table>\n",
       "<p>2973 rows × 8 columns</p>\n",
       "</div>"
      ],
      "text/plain": [
       "      kingdom        phylum           class         order            family  \\\n",
       "0     Plantae  Tracheophyta     Cycadopsida     Cycadales         Zamiaceae   \n",
       "1     Plantae  Tracheophyta      Liliopsida   Alismatales   Aponogetonaceae   \n",
       "2     Plantae  Tracheophyta      Liliopsida   Alismatales           Araceae   \n",
       "3     Plantae  Tracheophyta      Liliopsida   Alismatales           Araceae   \n",
       "4     Plantae  Tracheophyta      Liliopsida   Alismatales           Araceae   \n",
       "...       ...           ...             ...           ...               ...   \n",
       "2968  Plantae  Tracheophyta  Polypodiopsida  Polypodiales       Pteridaceae   \n",
       "2969  Plantae  Tracheophyta  Polypodiopsida  Polypodiales  Thelypteridaceae   \n",
       "2970  Plantae  Tracheophyta  Polypodiopsida  Polypodiales  Thelypteridaceae   \n",
       "2971  Plantae  Tracheophyta  Polypodiopsida   Salviniales      Salviniaceae   \n",
       "2972  Plantae  Tracheophyta  Polypodiopsida   Schizaeales        Anemiaceae   \n",
       "\n",
       "             genus                   species    0  \n",
       "0       Macrozamia         Macrozamia moorei   60  \n",
       "1       Aponogeton        Aponogeton junceus   48  \n",
       "2        Anthurium        Anthurium cordatum    1  \n",
       "3        Anthurium       Anthurium oxybelium    7  \n",
       "4             Arum            Arum orientale  386  \n",
       "...            ...                       ...  ...  \n",
       "2968  Pityrogramma  Pityrogramma calomelanos   81  \n",
       "2969   Amauropelta   Amauropelta knysnaensis    5  \n",
       "2970   Amauropelta        Amauropelta sancta    2  \n",
       "2971        Azolla       Azolla filiculoides  172  \n",
       "2972        Anemia          Anemia caffrorum   84  \n",
       "\n",
       "[2973 rows x 8 columns]"
      ]
     },
     "execution_count": 11,
     "metadata": {},
     "output_type": "execute_result"
    }
   ],
   "source": [
    "d_inat"
   ]
  },
  {
   "cell_type": "code",
   "execution_count": 12,
   "id": "4fa8ff91-e054-457a-9a1d-87e4171b1af5",
   "metadata": {
    "tags": []
   },
   "outputs": [],
   "source": [
    "import plotly.io as pio\n",
    "\n",
    "pio.renderers.default = (\n",
    "    \"iframe\"  # or 'colab' or 'iframe' or 'iframe_connected' or 'sphinx_gallery\n",
    ")"
   ]
  },
  {
   "cell_type": "markdown",
   "id": "0d053714-8441-47ad-9d01-29174cc8a888",
   "metadata": {
    "tags": []
   },
   "source": [
    "import plotly.express as px\n",
    "import numpy as np\n",
    "\n",
    "df = px.data.gapminder().query(\"year == 2007\")\n",
    "fig = px.sunburst(\n",
    "    df,\n",
    "    path=[\"continent\", \"country\"],\n",
    "    values=\"pop\",\n",
    "    color=\"lifeExp\",\n",
    "    hover_data=[\"iso_alpha\"],\n",
    "    color_continuous_scale=\"RdBu\",\n",
    "    color_continuous_midpoint=np.average(df[\"lifeExp\"], weights=df[\"pop\"]),\n",
    ")\n",
    "fig.show()"
   ]
  },
  {
   "cell_type": "code",
   "execution_count": 52,
   "id": "0654656f-14ca-4130-b03a-f06111baccf5",
   "metadata": {
    "tags": []
   },
   "outputs": [
    {
     "data": {
      "text/html": [
       "<iframe\n",
       "    scrolling=\"no\"\n",
       "    width=\"100%\"\n",
       "    height=\"545px\"\n",
       "    src=\"iframe_figures/figure_52.html\"\n",
       "    frameborder=\"0\"\n",
       "    allowfullscreen\n",
       "></iframe>\n"
      ]
     },
     "metadata": {},
     "output_type": "display_data"
    }
   ],
   "source": [
    "pio.renderers.default = (\n",
    "    \"iframe\"  # or 'colab' or 'iframe' or 'iframe_connected' or 'sphinx_gallery\n",
    ")\n",
    "df = d_inat\n",
    "fig = px.sunburst(\n",
    "    df,\n",
    "    # path=[\"kingdom\", \"phylum\", \"class\", \"order\"],\n",
    "    path=[\"phylum\", \"class\", \"order\", \"family\"],\n",
    "    # path=[\"phylum\", \"class\", \"order\", \"family\", \"species\"],\n",
    "    # path=[\"order\", \"family\", \"genus\"],\n",
    "    # path=[\"order\", \"family\"],\n",
    "    # path=[\"phylum\", \"order\", \"family\"],\n",
    "    # path=['kingdom','phylum','class','order'],\n",
    "    values=\"0\",\n",
    "    color=\"order\",\n",
    "    # hover_data=[\"iso_alpha\"],\n",
    "    # color_continuous_scale=\"RdBu\",\n",
    "    # color_continuous_midpoint=np.average(df[\"lifeExp\"], weights=df[\"pop\"]),\n",
    ")\n",
    "fig.show()"
   ]
  },
  {
   "cell_type": "code",
   "execution_count": 42,
   "id": "8b627756-fb47-49a9-998a-1ea42117ea6d",
   "metadata": {
    "tags": []
   },
   "outputs": [
    {
     "name": "stdout",
     "output_type": "stream",
     "text": [
      "Collecting kaleido\n",
      "  Downloading kaleido-0.2.1-py2.py3-none-manylinux1_x86_64.whl (79.9 MB)\n",
      "\u001b[K     |████████████████████████████████| 79.9 MB 3.8 MB/s eta 0:00:01\n",
      "\u001b[?25hInstalling collected packages: kaleido\n",
      "Successfully installed kaleido-0.2.1\n"
     ]
    }
   ],
   "source": [
    "!pip install -U kaleido"
   ]
  },
  {
   "cell_type": "code",
   "execution_count": null,
   "id": "f3d29b36-e288-4e54-bdf4-c19d75eca38b",
   "metadata": {},
   "outputs": [],
   "source": []
  },
  {
   "cell_type": "code",
   "execution_count": null,
   "id": "f6fedd34-b072-45f6-9a97-3c8e7018652b",
   "metadata": {},
   "outputs": [],
   "source": []
  },
  {
   "cell_type": "code",
   "execution_count": null,
   "id": "e832e225-d7fd-4d42-a7df-a4d08d65a3d1",
   "metadata": {},
   "outputs": [],
   "source": []
  },
  {
   "cell_type": "code",
   "execution_count": null,
   "id": "142ad3ca-7041-4065-9943-c0bbc8f0edff",
   "metadata": {},
   "outputs": [],
   "source": [
    "\n",
    "libemf"
   ]
  },
  {
   "cell_type": "code",
   "execution_count": null,
   "id": "752c0da9-e9d8-401c-8069-c53721a4cbe4",
   "metadata": {},
   "outputs": [],
   "source": []
  },
  {
   "cell_type": "code",
   "execution_count": 13,
   "id": "bbae20e1-9401-4eee-b2b2-d87dfd1c0f1c",
   "metadata": {
    "tags": []
   },
   "outputs": [
    {
     "name": "stdout",
     "output_type": "stream",
     "text": [
      "/home/sh/Uni/dsp/datasets/hdf\n"
     ]
    }
   ],
   "source": [
    "DATA_LOCATION = Path(\".\").parent / \"datasets\" / \"iNatRG\"\n",
    "DATA_LOCATION_THIN = Path(\".\").parent / \"datasets\" / \"iNatRG_thin\"\n",
    "DATA_LOCATION_HDF = Path(\".\").resolve().parent / \"datasets\" / \"hdf\"\n",
    "print(str(DATA_LOCATION_HDF))\n",
    "\n",
    "DS_LOCATION = DATA_LOCATION / \"verbatim.txt\"\n",
    "DS_LOCATION_O = DATA_LOCATION / \"occurrence.txt\"\n",
    "\n",
    "DS_LOCATION_H = DATA_LOCATION_HDF / \"verbatim.hdf5\"\n",
    "DS_LOCATION_OH = DATA_LOCATION_HDF / \"occurrence.hdf5\""
   ]
  },
  {
   "cell_type": "code",
   "execution_count": 14,
   "id": "a46ebed6-7cda-46a9-ba29-bdca97bf4741",
   "metadata": {
    "tags": []
   },
   "outputs": [],
   "source": [
    "df = vx.open(DS_LOCATION_OH)"
   ]
  },
  {
   "cell_type": "code",
   "execution_count": 15,
   "id": "21cffcfc-7b37-485b-99f9-899188bebf88",
   "metadata": {
    "tags": []
   },
   "outputs": [],
   "source": [
    "tax_col_names_order = [\n",
    "    \"kingdom\",\n",
    "    \"phylum\",\n",
    "    \"class\",\n",
    "    \"order\",\n",
    "    \"family\",\n",
    "    \"genus\",\n",
    "    \"species\",\n",
    "]\n",
    "libemf\n",
    "df = df[tax_col_names_order]"
   ]
  },
  {
   "cell_type": "code",
   "execution_count": 16,
   "id": "04aeddaa-cedf-457d-be60-1796b8b86c71",
   "metadata": {
    "tags": []
   },
   "outputs": [
    {
     "data": {
      "text/html": [
       "<table>\n",
       "<thead>\n",
       "<tr><th>#                                  </th><th>kingdom  </th><th>phylum      </th><th>class        </th><th>order         </th><th>family          </th><th>genus        </th><th>species                      </th><th>count  </th></tr>\n",
       "</thead>\n",
       "<tbody>\n",
       "<tr><td><i style='opacity: 0.6'>0</i>      </td><td>Plantae  </td><td>Tracheophyta</td><td>Magnoliopsida</td><td>Caryophyllales</td><td>Phytolaccaceae  </td><td>Phytolacca   </td><td>Phytolacca americana         </td><td>52031  </td></tr>\n",
       "<tr><td><i style='opacity: 0.6'>1</i>      </td><td>Plantae  </td><td>Tracheophyta</td><td>Magnoliopsida</td><td>Lamiales      </td><td>Acanthaceae     </td><td>Carlowrightia</td><td>Carlowrightia torreyana      </td><td>69     </td></tr>\n",
       "<tr><td><i style='opacity: 0.6'>2</i>      </td><td>Plantae  </td><td>Bryophyta   </td><td>Bryopsida    </td><td>Bryales       </td><td>Mniaceae        </td><td>Plagiomnium  </td><td>Plagiomnium undulatum        </td><td>3022   </td></tr>\n",
       "<tr><td><i style='opacity: 0.6'>3</i>      </td><td>Plantae  </td><td>Tracheophyta</td><td>Magnoliopsida</td><td>Asterales     </td><td>Campanulaceae   </td><td>Campanula    </td><td>Campanula piperi             </td><td>95     </td></tr>\n",
       "<tr><td><i style='opacity: 0.6'>4</i>      </td><td>Plantae  </td><td>Tracheophyta</td><td>Magnoliopsida</td><td>Lamiales      </td><td>Plantaginaceae  </td><td>Plantago     </td><td>Plantago media               </td><td>8696   </td></tr>\n",
       "<tr><td>...                                </td><td>...      </td><td>...         </td><td>...          </td><td>...           </td><td>...             </td><td>...          </td><td>...                          </td><td>...    </td></tr>\n",
       "<tr><td><i style='opacity: 0.6'>111,551</i></td><td>Plantae  </td><td>Tracheophyta</td><td>Magnoliopsida</td><td>Myrtales      </td><td>Melastomataceae </td><td>Miconia      </td><td>Miconia ostrina              </td><td>1      </td></tr>\n",
       "<tr><td><i style='opacity: 0.6'>111,552</i></td><td>Plantae  </td><td>Tracheophyta</td><td>Liliopsida   </td><td>Alismatales   </td><td>Hydrocharitaceae</td><td>Lagarosiphon </td><td>Lagarosiphon verticillifolius</td><td>1      </td></tr>\n",
       "<tr><td><i style='opacity: 0.6'>111,553</i></td><td>Plantae  </td><td>Tracheophyta</td><td>Liliopsida   </td><td>Asparagales   </td><td>Orchidaceae     </td><td>Pterostylis  </td><td>Pterostylis platypetala      </td><td>1      </td></tr>\n",
       "<tr><td><i style='opacity: 0.6'>111,554</i></td><td>Plantae  </td><td>Tracheophyta</td><td>Magnoliopsida</td><td>Gentianales   </td><td>Apocynaceae     </td><td>Hoya         </td><td>Hoya erythrina               </td><td>1      </td></tr>\n",
       "<tr><td><i style='opacity: 0.6'>111,555</i></td><td>Plantae  </td><td>Tracheophyta</td><td>Liliopsida   </td><td>Asparagales   </td><td>Iridaceae       </td><td>Geissorhiza  </td><td>Geissorhiza sufflava         </td><td>1      </td></tr>\n",
       "</tbody>\n",
       "</table>"
      ],
      "text/plain": [
       "#        kingdom    phylum        class          order           family            genus          species                        count\n",
       "0        Plantae    Tracheophyta  Magnoliopsida  Caryophyllales  Phytolaccaceae    Phytolacca     Phytolacca americana           52031\n",
       "1        Plantae    Tracheophyta  Magnoliopsida  Lamiales        Acanthaceae       Carlowrightia  Carlowrightia torreyana        69\n",
       "2        Plantae    Bryophyta     Bryopsida      Bryales         Mniaceae          Plagiomnium    Plagiomnium undulatum          3022\n",
       "3        Plantae    Tracheophyta  Magnoliopsida  Asterales       Campanulaceae     Campanula      Campanula piperi               95\n",
       "4        Plantae    Tracheophyta  Magnoliopsida  Lamiales        Plantaginaceae    Plantago       Plantago media                 8696\n",
       "...      ...        ...           ...            ...             ...               ...            ...                            ...\n",
       "111,551  Plantae    Tracheophyta  Magnoliopsida  Myrtales        Melastomataceae   Miconia        Miconia ostrina                1\n",
       "111,552  Plantae    Tracheophyta  Liliopsida     Alismatales     Hydrocharitaceae  Lagarosiphon   Lagarosiphon verticillifolius  1\n",
       "111,553  Plantae    Tracheophyta  Liliopsida     Asparagales     Orchidaceae       Pterostylis    Pterostylis platypetala        1\n",
       "111,554  Plantae    Tracheophyta  Magnoliopsida  Gentianales     Apocynaceae       Hoya           Hoya erythrina                 1\n",
       "111,555  Plantae    Tracheophyta  Liliopsida     Asparagales     Iridaceae         Geissorhiza    Geissorhiza sufflava           1"
      ]
     },
     "execution_count": 16,
     "metadata": {},
     "output_type": "execute_result"
    }
   ],
   "source": [
    "inat_counts = df.groupby(tax_col_names_order, agg=\"count\")\n",
    "inat_counts"
   ]
  },
  {
   "cell_type": "code",
   "execution_count": 17,
   "id": "0f4bfb28-ca8b-4a56-a1fc-4337cb36bdd6",
   "metadata": {
    "tags": []
   },
   "outputs": [
    {
     "data": {
      "text/plain": [
       "<seaborn.axisgrid.FacetGrid at 0x7fcd9c6e6fd0>"
      ]
     },
     "execution_count": 17,
     "metadata": {},
     "output_type": "execute_result"
    },
    {
     "data": {
      "image/png": "[encoded data removed]",
      "text/plain": [
       "<Figure size 564.625x500 with 1 Axes>"
      ]
     },
     "metadata": {},
     "output_type": "display_data"
    }
   ],
   "source": [
    "sns.displot(inat_counts[inat_counts[\"count\"] > 50])"
   ]
  },
  {
   "cell_type": "code",
   "execution_count": 18,
   "id": "70b4da8f-f91d-4839-a900-d74ccf10a5a1",
   "metadata": {
    "tags": []
   },
   "outputs": [
    {
     "data": {
      "text/plain": [
       "<seaborn.axisgrid.FacetGrid at 0x7fbe40362520>"
      ]
     },
     "execution_count": 18,
     "metadata": {},
     "output_type": "execute_result"
    },
    {
     "data": {
      "image/png": "[encoded data removed]",
      "text/plain": [
       "<Figure size 564.625x500 with 1 Axes>"
      ]
     },
     "metadata": {},
     "output_type": "display_data"
    }
   ],
   "source": [
    "sns.displot(inat_counts[inat_counts[\"count\"] > 0], log_scale=True)"
   ]
  },
  {
   "cell_type": "code",
   "execution_count": 19,
   "id": "d3329215-c5d3-44fc-8b9a-cad43ea63be1",
   "metadata": {
    "tags": []
   },
   "outputs": [
    {
     "data": {
      "text/plain": [
       "<seaborn.axisgrid.FacetGrid at 0x7fbe4004bdc0>"
      ]
     },
     "execution_count": 19,
     "metadata": {},
     "output_type": "execute_result"
    },
    {
     "data": {
      "image/png": "[encoded data removed]",
      "text/plain": [
       "<Figure size 564.625x500 with 1 Axes>"
      ]
     },
     "metadata": {},
     "output_type": "display_data"
    }
   ],
   "source": [
    "sns.displot(inat_counts[inat_counts[\"count\"] > 0], log_scale=True, bins=40)"
   ]
  },
  {
   "cell_type": "code",
   "execution_count": 20,
   "id": "4fe36cac-06bb-4eb4-bef3-cfc6b1d64785",
   "metadata": {
    "tags": []
   },
   "outputs": [
    {
     "data": {
      "text/plain": [
       "<seaborn.axisgrid.FacetGrid at 0x7fbe33f37a30>"
      ]
     },
     "execution_count": 20,
     "metadata": {},
     "output_type": "execute_result"
    },
    {
     "data": {
      "image/png": "[encoded data removed]",
      "text/plain": [
       "<Figure size 564.625x500 with 1 Axes>"
      ]
     },
     "metadata": {},
     "output_type": "display_data"
    }
   ],
   "source": [
    "sns.displot(inat_counts[inat_counts[\"count\"] > 0], kind=\"ecdf\")"
   ]
  },
  {
   "cell_type": "code",
   "execution_count": 21,
   "id": "01f4c2f9-8ce9-4e5e-add1-8247c5a9e91f",
   "metadata": {
    "tags": []
   },
   "outputs": [],
   "source": [
    "tax_col_names_order = [\n",
    "    \"kingdom\",\n",
    "    \"phylum\",\n",
    "    # \"class\",\n",
    "    \"order\",\n",
    "    \"family\",\n",
    "    \"genus\",\n",
    "    \"species\",\n",
    "]"
   ]
  },
  {
   "cell_type": "code",
   "execution_count": 26,
   "id": "48ca5e43-fea2-421d-a2c2-fef9d126e0f0",
   "metadata": {
    "tags": []
   },
   "outputs": [],
   "source": [
    "import plotly.io as pio\n",
    "\n",
    "pio.renderers.default = (\n",
    "    \"iframe\"  # or 'colab' or 'iframe' or 'iframe_connected' or 'sphinx_gallery\n",
    ")"
   ]
  },
  {
   "cell_type": "code",
   "execution_count": 27,
   "id": "2cd22281-bff1-4017-814f-ed265662f1b6",
   "metadata": {
    "tags": []
   },
   "outputs": [
    {
     "data": {
      "text/html": [
       "<iframe\n",
       "    scrolling=\"no\"\n",
       "    width=\"100%\"\n",
       "    height=\"545px\"\n",
       "    src=\"iframe_figures/figure_27.html\"\n",
       "    frameborder=\"0\"\n",
       "    allowfullscreen\n",
       "></iframe>\n"
      ]
     },
     "metadata": {},
     "output_type": "display_data"
    }
   ],
   "source": [
    "import plotly.express as px\n",
    "import numpy as np\n",
    "\n",
    "df = px.data.gapminder().query(\"year == 2007\")\n",
    "fig = px.sunburst(\n",
    "    df,\n",
    "    path=[\"continent\", \"country\"],\n",
    "    values=\"pop\",\n",
    "    color=\"lifeExp\",\n",
    "    hover_data=[\"iso_alpha\"],\n",
    "    color_continuous_scale=\"RdBu\",\n",
    "    color_continuous_midpoint=np.average(df[\"lifeExp\"], weights=df[\"pop\"]),\n",
    ")\n",
    "fig.show()"
   ]
  },
  {
   "cell_type": "code",
   "execution_count": 28,
   "id": "20734748-ae45-439e-9935-ec202f09559a",
   "metadata": {
    "tags": []
   },
   "outputs": [
    {
     "data": {
      "text/html": [
       "<iframe\n",
       "    scrolling=\"no\"\n",
       "    width=\"100%\"\n",
       "    height=\"545px\"\n",
       "    src=\"iframe_figures/figure_28.html\"\n",
       "    frameborder=\"0\"\n",
       "    allowfullscreen\n",
       "></iframe>\n"
      ]
     },
     "metadata": {},
     "output_type": "display_data"
    }
   ],
   "source": [
    "import plotly.express as px\n",
    "import numpy as np\n",
    "\n",
    "df = d_inat\n",
    "fig = px.sunburst(\n",
    "    df,\n",
    "    # path=[\"kingdom\", \"phylum\", \"order\"],\n",
    "    # path=[\"order\", \"family\", \"genus\"],\n",
    "    # path=[\"order\", \"family\"],\n",
    "    path=[\"phylum\", \"order\", \"family\"],\n",
    "    # path=['kingdom','phylum','class','order'],\n",
    "    values=\"0\",\n",
    "    color=\"order\",\n",
    "    # hover_data=[\"iso_alpha\"],\n",
    "    # color_continuous_scale=\"RdBu\",\n",
    "    # color_continuous_midpoint=np.average(df[\"lifeExp\"], weights=df[\"pop\"]),\n",
    ")\n",
    "fig.show()"
   ]
  },
  {
   "cell_type": "code",
   "execution_count": 29,
   "id": "d6296163-f9ec-42f0-8d19-2349a3ef5194",
   "metadata": {
    "tags": []
   },
   "outputs": [
    {
     "data": {
      "text/plain": [
       "(7112, 7070, 7077)"
      ]
     },
     "execution_count": 29,
     "metadata": {},
     "output_type": "execute_result"
    }
   ],
   "source": [
    "ditr.size, diva.size, dite.size"
   ]
  },
  {
   "cell_type": "code",
   "execution_count": 30,
   "id": "597fc740-d0d1-4fc3-b2c5-ab08bf29eebf",
   "metadata": {},
   "outputs": [
    {
     "data": {
      "text/html": [
       "<iframe\n",
       "    scrolling=\"no\"\n",
       "    width=\"100%\"\n",
       "    height=\"545px\"\n",
       "    src=\"iframe_figures/figure_30.html\"\n",
       "    frameborder=\"0\"\n",
       "    allowfullscreen\n",
       "></iframe>\n"
      ]
     },
     "metadata": {},
     "output_type": "display_data"
    }
   ],
   "source": [
    "df = d_inat\n",
    "fig = px.sunburst(\n",
    "    df,\n",
    "    path=[\"kingdom\", \"phylum\", \"order\"],\n",
    "    # path=[\"order\", \"family\", \"genus\"],\n",
    "    # path=[\"order\", \"family\"],\n",
    "    # path=[\"phylum\", \"order\", \"family\"],\n",
    "    # path=['kingdom','phylum','class','order'],\n",
    "    values=\"0\",\n",
    "    color=\"order\",\n",
    "    # hover_data=[\"iso_alpha\"],\n",
    "    # color_continuous_scale=\"RdBu\",\n",
    "    # color_continuous_midpoint=np.average(df[\"lifeExp\"], weights=df[\"pop\"]),\n",
    ")If you are using python3.12, you should use importlib instead of imp module.\n",
    "\n",
    "\n",
    "fig.show()"
   ]
  },
  {
   "cell_type": "code",
   "execution_count": 38,
   "id": "11ecfca3-8cf7-4c0e-9567-22156bcd35e3",
   "metadata": {
    "tags": []
   },
   "outputs": [
    {
     "data": {
      "text/plain": [
       "0              Abeliophyllum distichum Nakai\n",
       "1081           Abeliophyllum distichum Nakai\n",
       "2162           Abeliophyllum distichum Nakai\n",
       "1         Acacia angustissima (Mill.) Kuntze\n",
       "1082      Acacia angustissima (Mill.) Kuntze\n",
       "                        ...                 \n",
       "1079    Zamioculcas zamiifolia (Lodd.) Engl.\n",
       "2160    Zamioculcas zamiifolia (Lodd.) Engl.\n",
       "2161               Zannichellia palustris L.\n",
       "1080               Zannichellia palustris L.\n",
       "3242               Zannichellia palustris L.\n",
       "Name: label, Length: 3243, dtype: object"
      ]
     },
     "execution_count": 38,
     "metadata": {},
     "output_type": "execute_result"
    }
   ],
   "source": [
    "d_pnet.label.sort_values()"
   ]
  },
  {
   "cell_type": "code",
   "execution_count": 37,
   "id": "171fa3b3-0369-4826-a053-2433e29a38bd",
   "metadata": {
    "tags": []
   },
   "outputs": [
    {
     "data": {
      "text/plain": [
       "719     Abelmoschus manihot\n",
       "2743    Abelmoschus manihot\n",
       "1732    Abelmoschus manihot\n",
       "343         Abronia villosa\n",
       "1356        Abronia villosa\n",
       "               ...         \n",
       "2543     Zornia dyctiocarpa\n",
       "1532     Zornia dyctiocarpa\n",
       "520      Zornia glochidiata\n",
       "1533     Zornia glochidiata\n",
       "2544     Zornia glochidiata\n",
       "Name: species, Length: 3037, dtype: object"
      ]
     },
     "execution_count": 37,
     "metadata": {},
     "output_type": "execute_result"
    }
   ],
   "source": [
    "d_inat.species.sort_values()"
   ]
  },
  {
   "cell_type": "code",
   "execution_count": null,
   "id": "6d764a85-e1aa-4ece-b2a0-b3683942c3b0",
   "metadata": {},
   "outputs": [],
   "source": []
  },
  {
   "cell_type": "code",
   "execution_count": null,
   "id": "bb2e34fe-1af7-49de-8c47-5ecd0ff0abea",
   "metadata": {},
   "outputs": [],
   "source": []
  },
  {
   "cell_type": "code",
   "execution_count": null,
   "id": "50815893-2e41-47a3-adb3-971d27c22785",
   "metadata": {},
   "outputs": [],
   "source": []
  },
  {
   "cell_type": "code",
   "execution_count": null,
   "id": "3d1d046a-0e65-4942-9f4e-6c85df8e017d",
   "metadata": {},
   "outputs": [],
   "source": []
  },
  {
   "cell_type": "code",
   "execution_count": null,
   "id": "54e820fe-8c3c-4f28-9734-9643460c440c",
   "metadata": {},
   "outputs": [],
   "source": []
  },
  {
   "cell_type": "code",
   "execution_count": null,
   "id": "83491197-0751-4609-8a89-24e7daa8d928",
   "metadata": {},
   "outputs": [],
   "source": []
  },
  {
   "cell_type": "code",
   "execution_count": null,
   "id": "4cc9b8a6-919c-448d-80da-baaaee873783",
   "metadata": {},
   "outputs": [],
   "source": []
  },
  {
   "cell_type": "code",
   "execution_count": null,
   "id": "55aea638-5c18-44b9-a347-e0ae7e2cb6e8",
   "metadata": {},
   "outputs": [],
   "source": []
  }
 ],
 "metadata": {
  "kernelspec": {
   "display_name": "cursed",
   "language": "python",
   "name": "cursed"
  },
  "language_info": {
   "codemirror_mode": {
    "name": "ipython",
    "version": 3
   },
   "file_extension": ".py",
   "mimetype": "text/x-python",
   "name": "python",
   "nbconvert_exporter": "python",
   "pygments_lexer": "ipython3",
   "version": "3.12.4"
  }
 },
 "nbformat": 4,
 "nbformat_minor": 5
}
